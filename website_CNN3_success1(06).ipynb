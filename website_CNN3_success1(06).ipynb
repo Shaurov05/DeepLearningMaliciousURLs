{
  "nbformat": 4,
  "nbformat_minor": 0,
  "metadata": {
    "colab": {
      "name": "website_CNN3 success1(06).ipynb",
      "provenance": [],
      "collapsed_sections": [],
      "machine_shape": "hm",
      "include_colab_link": true
    },
    "kernelspec": {
      "name": "python3",
      "display_name": "Python 3"
    },
    "accelerator": "GPU"
  },
  "cells": [
    {
      "cell_type": "markdown",
      "metadata": {
        "id": "view-in-github",
        "colab_type": "text"
      },
      "source": [
        "<a href=\"https://colab.research.google.com/github/Shaurov05/DeepLearningMaliciousURLs/blob/master/website_CNN3_success1(06).ipynb\" target=\"_parent\"><img src=\"https://colab.research.google.com/assets/colab-badge.svg\" alt=\"Open In Colab\"/></a>"
      ]
    },
    {
      "cell_type": "code",
      "metadata": {
        "id": "1rQCxs_VGVjP",
        "colab_type": "code",
        "colab": {
          "base_uri": "https://localhost:8080/",
          "height": 103
        },
        "outputId": "d078dd41-9689-4c46-fd0f-bc5f3645f5a2"
      },
      "source": [
        "import numpy as np # linear algebra\n",
        "import pandas as pd # daimport pandas as pd\n",
        "import numpy as np\n",
        "from sklearn import linear_model\n",
        "from sklearn import metrics\n",
        "from sklearn.model_selection import train_test_split\n",
        "%matplotlib inline \n",
        "from sklearn.utils import shuffle\n",
        "import matplotlib.pyplot as plt\n",
        "from numpy import array\n",
        "from numpy import argmax\n",
        "from sklearn.preprocessing import LabelEncoder\n",
        "from sklearn.preprocessing import OneHotEncoder\n",
        "from sklearn.feature_extraction.text import TfidfVectorizer\n",
        "from sklearn.feature_extraction.text import TfidfTransformer\n",
        "from sklearn.naive_bayes import MultinomialNB\n",
        "from sklearn.feature_extraction.text import CountVectorizer\n",
        "from sklearn.feature_selection import chi2\n",
        "from sklearn import tree\n",
        "from sklearn.tree import DecisionTreeClassifier\n",
        "from keras.utils import to_categorical\n",
        "from keras.models import Sequential\n",
        "from keras.layers.core import Dense, Activation\n",
        "from keras.utils import np_utils\n",
        "import re\n",
        "from keras.preprocessing import sequence\n",
        "from keras.preprocessing.text import one_hot\n",
        "from keras.preprocessing.text import text_to_word_sequence\n",
        "from sklearn.svm import LinearSVC\n"
      ],
      "execution_count": 1,
      "outputs": [
        {
          "output_type": "stream",
          "text": [
            "Using TensorFlow backend.\n"
          ],
          "name": "stderr"
        },
        {
          "output_type": "display_data",
          "data": {
            "text/html": [
              "<p style=\"color: red;\">\n",
              "The default version of TensorFlow in Colab will soon switch to TensorFlow 2.x.<br>\n",
              "We recommend you <a href=\"https://www.tensorflow.org/guide/migrate\" target=\"_blank\">upgrade</a> now \n",
              "or ensure your notebook will continue to use TensorFlow 1.x via the <code>%tensorflow_version 1.x</code> magic:\n",
              "<a href=\"https://colab.research.google.com/notebooks/tensorflow_version.ipynb\" target=\"_blank\">more info</a>.</p>\n"
            ],
            "text/plain": [
              "<IPython.core.display.HTML object>"
            ]
          },
          "metadata": {
            "tags": []
          }
        }
      ]
    },
    {
      "cell_type": "code",
      "metadata": {
        "id": "xtBe-QLLBuPi",
        "colab_type": "code",
        "colab": {
          "base_uri": "https://localhost:8080/",
          "height": 131
        },
        "outputId": "db18033b-0481-4fcd-98d5-db6399e553cc"
      },
      "source": [
        "from google.colab import drive\n",
        "drive.mount('/content/drive')"
      ],
      "execution_count": 3,
      "outputs": [
        {
          "output_type": "stream",
          "text": [
            "Go to this URL in a browser: https://accounts.google.com/o/oauth2/auth?client_id=947318989803-6bn6qk8qdgf4n4g3pfee6491hc0brc4i.apps.googleusercontent.com&redirect_uri=urn%3aietf%3awg%3aoauth%3a2.0%3aoob&response_type=code&scope=email%20https%3a%2f%2fwww.googleapis.com%2fauth%2fdocs.test%20https%3a%2f%2fwww.googleapis.com%2fauth%2fdrive%20https%3a%2f%2fwww.googleapis.com%2fauth%2fdrive.photos.readonly%20https%3a%2f%2fwww.googleapis.com%2fauth%2fpeopleapi.readonly\n",
            "\n",
            "Enter your authorization code:\n",
            "··········\n",
            "Mounted at /content/drive\n"
          ],
          "name": "stdout"
        }
      ]
    },
    {
      "cell_type": "code",
      "metadata": {
        "id": "gZ5VybDUr9aN",
        "colab_type": "code",
        "colab": {}
      },
      "source": [
        "names=['URL','Category']\n",
        "#df=pd.read_csv( \"../input/website-classification-using-url/URL Classification.csv\")\n",
        "#df=pd.read_csv('../input/Website classification using URL/URL Classification.csv')\n",
        "df=pd.read_csv('/content/drive/My Drive/Colab Notebooks/thesis/URL Classification.csv',names=names, na_filter=False)"
      ],
      "execution_count": 0,
      "outputs": []
    },
    {
      "cell_type": "code",
      "metadata": {
        "id": "Hg4LNDUAr9ju",
        "colab_type": "code",
        "outputId": "8212be4d-4af1-45a5-aab1-2545621228b1",
        "colab": {
          "base_uri": "https://localhost:8080/",
          "height": 132
        }
      },
      "source": [
        "from sklearn.preprocessing import LabelEncoder\n",
        "lb = LabelEncoder()\n",
        "lb.fit(df['Category'])\n",
        "df['Category'] = lb.transform(df['Category'])\n",
        "\n",
        "data = pd.get_dummies(df,prefix=['Category'], columns = ['Category'])\n",
        "df = data\n",
        "df[:2]"
      ],
      "execution_count": 5,
      "outputs": [
        {
          "output_type": "execute_result",
          "data": {
            "text/html": [
              "<div>\n",
              "<style scoped>\n",
              "    .dataframe tbody tr th:only-of-type {\n",
              "        vertical-align: middle;\n",
              "    }\n",
              "\n",
              "    .dataframe tbody tr th {\n",
              "        vertical-align: top;\n",
              "    }\n",
              "\n",
              "    .dataframe thead th {\n",
              "        text-align: right;\n",
              "    }\n",
              "</style>\n",
              "<table border=\"1\" class=\"dataframe\">\n",
              "  <thead>\n",
              "    <tr style=\"text-align: right;\">\n",
              "      <th></th>\n",
              "      <th>URL</th>\n",
              "      <th>Category_0</th>\n",
              "      <th>Category_1</th>\n",
              "      <th>Category_2</th>\n",
              "      <th>Category_3</th>\n",
              "      <th>Category_4</th>\n",
              "      <th>Category_5</th>\n",
              "      <th>Category_6</th>\n",
              "      <th>Category_7</th>\n",
              "      <th>Category_8</th>\n",
              "      <th>Category_9</th>\n",
              "      <th>Category_10</th>\n",
              "      <th>Category_11</th>\n",
              "      <th>Category_12</th>\n",
              "      <th>Category_13</th>\n",
              "      <th>Category_14</th>\n",
              "    </tr>\n",
              "  </thead>\n",
              "  <tbody>\n",
              "    <tr>\n",
              "      <th>1</th>\n",
              "      <td>http://www.liquidgeneration.com/</td>\n",
              "      <td>1</td>\n",
              "      <td>0</td>\n",
              "      <td>0</td>\n",
              "      <td>0</td>\n",
              "      <td>0</td>\n",
              "      <td>0</td>\n",
              "      <td>0</td>\n",
              "      <td>0</td>\n",
              "      <td>0</td>\n",
              "      <td>0</td>\n",
              "      <td>0</td>\n",
              "      <td>0</td>\n",
              "      <td>0</td>\n",
              "      <td>0</td>\n",
              "      <td>0</td>\n",
              "    </tr>\n",
              "    <tr>\n",
              "      <th>2</th>\n",
              "      <td>http://www.onlineanime.org/</td>\n",
              "      <td>1</td>\n",
              "      <td>0</td>\n",
              "      <td>0</td>\n",
              "      <td>0</td>\n",
              "      <td>0</td>\n",
              "      <td>0</td>\n",
              "      <td>0</td>\n",
              "      <td>0</td>\n",
              "      <td>0</td>\n",
              "      <td>0</td>\n",
              "      <td>0</td>\n",
              "      <td>0</td>\n",
              "      <td>0</td>\n",
              "      <td>0</td>\n",
              "      <td>0</td>\n",
              "    </tr>\n",
              "  </tbody>\n",
              "</table>\n",
              "</div>"
            ],
            "text/plain": [
              "                                URL  Category_0  ...  Category_13  Category_14\n",
              "1  http://www.liquidgeneration.com/           1  ...            0            0\n",
              "2       http://www.onlineanime.org/           1  ...            0            0\n",
              "\n",
              "[2 rows x 16 columns]"
            ]
          },
          "metadata": {
            "tags": []
          },
          "execution_count": 5
        }
      ]
    },
    {
      "cell_type": "code",
      "metadata": {
        "id": "NG6aliCLr9mZ",
        "colab_type": "code",
        "outputId": "374c13d4-eee4-4a5b-cc07-d8454662e92d",
        "colab": {
          "base_uri": "https://localhost:8080/",
          "height": 278
        }
      },
      "source": [
        "df1 = df[1:4000]\n",
        "df2 = df[50000:54000]\n",
        "df3 = df[520000:524000]\n",
        "df4 =df[535300:539300]\n",
        "df5 = df[650000:654000]\n",
        "df6= df[710000:714000]\n",
        "df7=  df[764200:768200]\n",
        "df8=  df[793080:797080]\n",
        "df9=  df[839730:843730]\n",
        "df10=  df[850000:854000]\n",
        "df11=  df[955250:959250]\n",
        "df12=  df[1013000:1017000]\n",
        "df13=  df[1143000:1147000]\n",
        "df14=  df[1293000:1297000]\n",
        "df15=  df[1492000:1496000]\n",
        "#df6 = df[77000:1562978]\n",
        "dt=pd.concat([df1,df2,df3,df4,df5,df6,df7,df8,df9,df10,df11,df12,df13,df14,df15], axis=0)\n",
        "df.drop(df.index[1:4000],inplace= True)\n",
        "df.drop(df.index[50000:54000],inplace= True)\n",
        "df.drop(df.index[520000:524000],inplace= True)\n",
        "df.drop(df.index[535300:539300],inplace= True)\n",
        "df.drop(df.index[650000:654000],inplace= True)\n",
        "df.drop(df.index[710000:714000],inplace= True)\n",
        "df.drop(df.index[764200:768200],inplace= True)\n",
        "df.drop(df.index[793080:797080],inplace= True)\n",
        "df.drop(df.index[839730:843730],inplace= True)\n",
        "df.drop(df.index[850000:854000],inplace= True)\n",
        "df.drop(df.index[955250:959250],inplace= True)\n",
        "df.drop(df.index[1013000:1017000],inplace= True)\n",
        "df.drop(df.index[1143000:1147000],inplace= True)\n",
        "df.drop(df.index[1293000:1297000],inplace= True)\n",
        "df.drop(df.index[1492000:1496000],inplace= True)\n",
        "df.tail()"
      ],
      "execution_count": 6,
      "outputs": [
        {
          "output_type": "execute_result",
          "data": {
            "text/html": [
              "<div>\n",
              "<style scoped>\n",
              "    .dataframe tbody tr th:only-of-type {\n",
              "        vertical-align: middle;\n",
              "    }\n",
              "\n",
              "    .dataframe tbody tr th {\n",
              "        vertical-align: top;\n",
              "    }\n",
              "\n",
              "    .dataframe thead th {\n",
              "        text-align: right;\n",
              "    }\n",
              "</style>\n",
              "<table border=\"1\" class=\"dataframe\">\n",
              "  <thead>\n",
              "    <tr style=\"text-align: right;\">\n",
              "      <th></th>\n",
              "      <th>URL</th>\n",
              "      <th>Category_0</th>\n",
              "      <th>Category_1</th>\n",
              "      <th>Category_2</th>\n",
              "      <th>Category_3</th>\n",
              "      <th>Category_4</th>\n",
              "      <th>Category_5</th>\n",
              "      <th>Category_6</th>\n",
              "      <th>Category_7</th>\n",
              "      <th>Category_8</th>\n",
              "      <th>Category_9</th>\n",
              "      <th>Category_10</th>\n",
              "      <th>Category_11</th>\n",
              "      <th>Category_12</th>\n",
              "      <th>Category_13</th>\n",
              "      <th>Category_14</th>\n",
              "    </tr>\n",
              "  </thead>\n",
              "  <tbody>\n",
              "    <tr>\n",
              "      <th>1562974</th>\n",
              "      <td>http://www.maxpreps.com/</td>\n",
              "      <td>0</td>\n",
              "      <td>0</td>\n",
              "      <td>0</td>\n",
              "      <td>0</td>\n",
              "      <td>0</td>\n",
              "      <td>0</td>\n",
              "      <td>0</td>\n",
              "      <td>0</td>\n",
              "      <td>0</td>\n",
              "      <td>0</td>\n",
              "      <td>0</td>\n",
              "      <td>0</td>\n",
              "      <td>0</td>\n",
              "      <td>0</td>\n",
              "      <td>1</td>\n",
              "    </tr>\n",
              "    <tr>\n",
              "      <th>1562975</th>\n",
              "      <td>http://www.myscore.com/</td>\n",
              "      <td>0</td>\n",
              "      <td>0</td>\n",
              "      <td>0</td>\n",
              "      <td>0</td>\n",
              "      <td>0</td>\n",
              "      <td>0</td>\n",
              "      <td>0</td>\n",
              "      <td>0</td>\n",
              "      <td>0</td>\n",
              "      <td>0</td>\n",
              "      <td>0</td>\n",
              "      <td>0</td>\n",
              "      <td>0</td>\n",
              "      <td>0</td>\n",
              "      <td>1</td>\n",
              "    </tr>\n",
              "    <tr>\n",
              "      <th>1562976</th>\n",
              "      <td>http://sportsillustrated.cnn.com/highschool</td>\n",
              "      <td>0</td>\n",
              "      <td>0</td>\n",
              "      <td>0</td>\n",
              "      <td>0</td>\n",
              "      <td>0</td>\n",
              "      <td>0</td>\n",
              "      <td>0</td>\n",
              "      <td>0</td>\n",
              "      <td>0</td>\n",
              "      <td>0</td>\n",
              "      <td>0</td>\n",
              "      <td>0</td>\n",
              "      <td>0</td>\n",
              "      <td>0</td>\n",
              "      <td>1</td>\n",
              "    </tr>\n",
              "    <tr>\n",
              "      <th>1562977</th>\n",
              "      <td>http://rss.cnn.com/rss/si_highschool?format=xml</td>\n",
              "      <td>0</td>\n",
              "      <td>0</td>\n",
              "      <td>0</td>\n",
              "      <td>0</td>\n",
              "      <td>0</td>\n",
              "      <td>0</td>\n",
              "      <td>0</td>\n",
              "      <td>0</td>\n",
              "      <td>0</td>\n",
              "      <td>0</td>\n",
              "      <td>0</td>\n",
              "      <td>0</td>\n",
              "      <td>0</td>\n",
              "      <td>0</td>\n",
              "      <td>1</td>\n",
              "    </tr>\n",
              "    <tr>\n",
              "      <th>1562978</th>\n",
              "      <td>http://www.usatoday.com/sports/preps/</td>\n",
              "      <td>0</td>\n",
              "      <td>0</td>\n",
              "      <td>0</td>\n",
              "      <td>0</td>\n",
              "      <td>0</td>\n",
              "      <td>0</td>\n",
              "      <td>0</td>\n",
              "      <td>0</td>\n",
              "      <td>0</td>\n",
              "      <td>0</td>\n",
              "      <td>0</td>\n",
              "      <td>0</td>\n",
              "      <td>0</td>\n",
              "      <td>0</td>\n",
              "      <td>1</td>\n",
              "    </tr>\n",
              "  </tbody>\n",
              "</table>\n",
              "</div>"
            ],
            "text/plain": [
              "                                                     URL  ...  Category_14\n",
              "1562974                         http://www.maxpreps.com/  ...            1\n",
              "1562975                          http://www.myscore.com/  ...            1\n",
              "1562976      http://sportsillustrated.cnn.com/highschool  ...            1\n",
              "1562977  http://rss.cnn.com/rss/si_highschool?format=xml  ...            1\n",
              "1562978            http://www.usatoday.com/sports/preps/  ...            1\n",
              "\n",
              "[5 rows x 16 columns]"
            ]
          },
          "metadata": {
            "tags": []
          },
          "execution_count": 6
        }
      ]
    },
    {
      "cell_type": "code",
      "metadata": {
        "id": "v4crOxJar9qN",
        "colab_type": "code",
        "outputId": "89bc83e8-03de-4844-9ad8-7b84947d7523",
        "colab": {
          "base_uri": "https://localhost:8080/",
          "height": 167
        }
      },
      "source": [
        "X_train=df['URL']\n",
        "y_train=df.iloc[: , 1:16].values\n",
        "print(y_train)\n",
        "y_train.shape"
      ],
      "execution_count": 7,
      "outputs": [
        {
          "output_type": "stream",
          "text": [
            "[[1 0 0 ... 0 0 0]\n",
            " [1 0 0 ... 0 0 0]\n",
            " [1 0 0 ... 0 0 0]\n",
            " ...\n",
            " [0 0 0 ... 0 0 1]\n",
            " [0 0 0 ... 0 0 1]\n",
            " [0 0 0 ... 0 0 1]]\n"
          ],
          "name": "stdout"
        },
        {
          "output_type": "execute_result",
          "data": {
            "text/plain": [
              "(1502979, 15)"
            ]
          },
          "metadata": {
            "tags": []
          },
          "execution_count": 7
        }
      ]
    },
    {
      "cell_type": "code",
      "metadata": {
        "id": "1jOKk4wir9iT",
        "colab_type": "code",
        "outputId": "658e8dd7-8fb2-463e-b897-a64c60a64b5d",
        "colab": {
          "base_uri": "https://localhost:8080/",
          "height": 167
        }
      },
      "source": [
        "X_test=dt['URL']\n",
        "y_test=dt.iloc[: , 1:16].values\n",
        "print(y_test)\n",
        "y_test.shape"
      ],
      "execution_count": 8,
      "outputs": [
        {
          "output_type": "stream",
          "text": [
            "[[1 0 0 ... 0 0 0]\n",
            " [1 0 0 ... 0 0 0]\n",
            " [1 0 0 ... 0 0 0]\n",
            " ...\n",
            " [0 0 0 ... 0 0 1]\n",
            " [0 0 0 ... 0 0 1]\n",
            " [0 0 0 ... 0 0 1]]\n"
          ],
          "name": "stdout"
        },
        {
          "output_type": "execute_result",
          "data": {
            "text/plain": [
              "(59999, 15)"
            ]
          },
          "metadata": {
            "tags": []
          },
          "execution_count": 8
        }
      ]
    },
    {
      "cell_type": "code",
      "metadata": {
        "id": "GgJv8XXzr9e6",
        "colab_type": "code",
        "outputId": "bfa77716-bbae-4ef1-aee4-159f705a5a84",
        "colab": {
          "base_uri": "https://localhost:8080/",
          "height": 92
        }
      },
      "source": [
        "from keras.preprocessing.text import Tokenizer\n",
        "def create_and_train_tokenizer(texts):\n",
        "    tokenizer=Tokenizer()\n",
        "    tokenizer.fit_on_texts(texts)\n",
        "    return tokenizer\n",
        "\n",
        "from keras.preprocessing.sequence import pad_sequences\n",
        "def encode_reviews(tokenizer, max_length, docs):\n",
        "    encoded=tokenizer.texts_to_sequences(docs) \n",
        "    padded=pad_sequences(encoded, maxlen=max_length, padding=\"post\")\n",
        "    return padded\n",
        "\n",
        "tokenizer=create_and_train_tokenizer(texts = X_train)\n",
        "vocab_size=len(tokenizer.word_index) + 1\n",
        "print(\"Vocabulary size:\", vocab_size)\n",
        "\n",
        "max_length=max([len(row.split()) for row in X_train])\n",
        "print(\"Maximum length:\",max_length)\n",
        "\n",
        "X_train_encoded = encode_reviews(tokenizer, max_length, X_train)\n",
        "X_test_encoded = encode_reviews(tokenizer, max_length, X_test)\n",
        "print('x_train shape:', X_train_encoded.shape)\n",
        "print('x_test shape:', X_test_encoded.shape)"
      ],
      "execution_count": 9,
      "outputs": [
        {
          "output_type": "stream",
          "text": [
            "Vocabulary size: 1182241\n",
            "Maximum length: 16\n",
            "x_train shape: (1502979, 16)\n",
            "x_test shape: (59999, 16)\n"
          ],
          "name": "stdout"
        }
      ]
    },
    {
      "cell_type": "code",
      "metadata": {
        "id": "gFJ-XIF-r9Yl",
        "colab_type": "code",
        "colab": {}
      },
      "source": [
        "from keras.preprocessing import sequence\n",
        "from keras.models import Sequential\n",
        "from keras.layers import Dense, Dropout, Activation\n",
        "from keras.layers import Embedding\n",
        "from keras.layers import Conv1D, GlobalMaxPooling1D\n",
        "from keras.datasets import imdb\n",
        "from keras import layers, models\n",
        "from keras.callbacks import EarlyStopping"
      ],
      "execution_count": 0,
      "outputs": []
    },
    {
      "cell_type": "code",
      "metadata": {
        "id": "wJKm4TVfr9Us",
        "colab_type": "code",
        "colab": {
          "base_uri": "https://localhost:8080/",
          "height": 711
        },
        "outputId": "5229dbda-016a-4037-f319-5e53951d1dce"
      },
      "source": [
        "from keras import layers, models\n",
        "\n",
        "def create_embedding_model(vocab_size, max_length):\n",
        "    model=models.Sequential()\n",
        "    model.add(layers.Embedding(vocab_size, 100, input_length=max_length))\n",
        "\n",
        "    model.add(layers.Conv1D(128, 5, activation=\"relu\"))\n",
        "    #model.add(layers.BatchNormalization())\n",
        "    model.add(layers.MaxPooling1D())\n",
        "\n",
        "    model.add(layers.Conv1D(128, 5, activation=\"relu\"))\n",
        "    #model.add(layers.BatchNormalization())\n",
        "    model.add(layers.MaxPooling1D())\n",
        "\n",
        "    model.add(layers.Flatten())\n",
        "    model.add(layers.Dense(128,  activation=\"relu\")) \n",
        "    dropout = Dropout(0.5)\n",
        "    model.add(layers.Dense(15,  activation=\"softmax\"))   \n",
        "    return model\n",
        "\n",
        "embedding_model = create_embedding_model(vocab_size=vocab_size, max_length=max_length)\n",
        "embedding_model.summary()\n",
        "\n",
        "from keras.optimizers import SGD\n",
        "opt = SGD(lr=0.01, momentum=0.9)\n",
        "embedding_model.compile(loss='categorical_crossentropy',\n",
        "              optimizer= opt,\n",
        "              metrics=['accuracy'])"
      ],
      "execution_count": 11,
      "outputs": [
        {
          "output_type": "stream",
          "text": [
            "WARNING:tensorflow:From /usr/local/lib/python3.6/dist-packages/keras/backend/tensorflow_backend.py:66: The name tf.get_default_graph is deprecated. Please use tf.compat.v1.get_default_graph instead.\n",
            "\n",
            "WARNING:tensorflow:From /usr/local/lib/python3.6/dist-packages/keras/backend/tensorflow_backend.py:541: The name tf.placeholder is deprecated. Please use tf.compat.v1.placeholder instead.\n",
            "\n",
            "WARNING:tensorflow:From /usr/local/lib/python3.6/dist-packages/keras/backend/tensorflow_backend.py:4432: The name tf.random_uniform is deprecated. Please use tf.random.uniform instead.\n",
            "\n",
            "WARNING:tensorflow:From /usr/local/lib/python3.6/dist-packages/keras/backend/tensorflow_backend.py:4267: The name tf.nn.max_pool is deprecated. Please use tf.nn.max_pool2d instead.\n",
            "\n",
            "Model: \"sequential_1\"\n",
            "_________________________________________________________________\n",
            "Layer (type)                 Output Shape              Param #   \n",
            "=================================================================\n",
            "embedding_1 (Embedding)      (None, 16, 100)           118224100 \n",
            "_________________________________________________________________\n",
            "conv1d_1 (Conv1D)            (None, 12, 128)           64128     \n",
            "_________________________________________________________________\n",
            "max_pooling1d_1 (MaxPooling1 (None, 6, 128)            0         \n",
            "_________________________________________________________________\n",
            "conv1d_2 (Conv1D)            (None, 2, 128)            82048     \n",
            "_________________________________________________________________\n",
            "max_pooling1d_2 (MaxPooling1 (None, 1, 128)            0         \n",
            "_________________________________________________________________\n",
            "flatten_1 (Flatten)          (None, 128)               0         \n",
            "_________________________________________________________________\n",
            "dense_1 (Dense)              (None, 128)               16512     \n",
            "_________________________________________________________________\n",
            "dense_2 (Dense)              (None, 15)                1935      \n",
            "=================================================================\n",
            "Total params: 118,388,723\n",
            "Trainable params: 118,388,723\n",
            "Non-trainable params: 0\n",
            "_________________________________________________________________\n",
            "WARNING:tensorflow:From /usr/local/lib/python3.6/dist-packages/keras/optimizers.py:793: The name tf.train.Optimizer is deprecated. Please use tf.compat.v1.train.Optimizer instead.\n",
            "\n",
            "WARNING:tensorflow:From /usr/local/lib/python3.6/dist-packages/keras/backend/tensorflow_backend.py:3576: The name tf.log is deprecated. Please use tf.math.log instead.\n",
            "\n"
          ],
          "name": "stdout"
        }
      ]
    },
    {
      "cell_type": "code",
      "metadata": {
        "id": "xrzdnKUWsPXZ",
        "colab_type": "code",
        "colab": {
          "base_uri": "https://localhost:8080/",
          "height": 54
        },
        "outputId": "849e4344-d767-42d1-9086-28feacabf13c"
      },
      "source": [
        "print(len(y_train) + len(y_test))\n",
        "print(len(X_train_encoded))"
      ],
      "execution_count": 12,
      "outputs": [
        {
          "output_type": "stream",
          "text": [
            "1562978\n",
            "1502979\n"
          ],
          "name": "stdout"
        }
      ]
    },
    {
      "cell_type": "code",
      "metadata": {
        "id": "cfWxLaOCsPUG",
        "colab_type": "code",
        "outputId": "d58998d1-6c75-4a01-bcf4-c0f91625b34d",
        "colab": {
          "base_uri": "https://localhost:8080/",
          "height": 599
        }
      },
      "source": [
        "#earlyStopping = EarlyStopping(monitor=\"val_accuracy\", patience=1)\n",
        "modelHistory = embedding_model.fit(X_train_encoded, \n",
        "                                   y_train, \n",
        "                                   validation_data=(X_test_encoded, y_test),\n",
        "                                   epochs= 40\n",
        "                                   )"
      ],
      "execution_count": 13,
      "outputs": [
        {
          "output_type": "stream",
          "text": [
            "WARNING:tensorflow:From /usr/local/lib/python3.6/dist-packages/tensorflow_core/python/ops/math_grad.py:1424: where (from tensorflow.python.ops.array_ops) is deprecated and will be removed in a future version.\n",
            "Instructions for updating:\n",
            "Use tf.where in 2.0, which has the same broadcast rule as np.where\n",
            "WARNING:tensorflow:From /usr/local/lib/python3.6/dist-packages/keras/backend/tensorflow_backend.py:1033: The name tf.assign_add is deprecated. Please use tf.compat.v1.assign_add instead.\n",
            "\n",
            "WARNING:tensorflow:From /usr/local/lib/python3.6/dist-packages/keras/backend/tensorflow_backend.py:1020: The name tf.assign is deprecated. Please use tf.compat.v1.assign instead.\n",
            "\n",
            "WARNING:tensorflow:From /usr/local/lib/python3.6/dist-packages/keras/backend/tensorflow_backend.py:3005: The name tf.Session is deprecated. Please use tf.compat.v1.Session instead.\n",
            "\n",
            "Train on 1502979 samples, validate on 59999 samples\n",
            "Epoch 1/40\n",
            "WARNING:tensorflow:From /usr/local/lib/python3.6/dist-packages/keras/backend/tensorflow_backend.py:190: The name tf.get_default_session is deprecated. Please use tf.compat.v1.get_default_session instead.\n",
            "\n",
            "WARNING:tensorflow:From /usr/local/lib/python3.6/dist-packages/keras/backend/tensorflow_backend.py:197: The name tf.ConfigProto is deprecated. Please use tf.compat.v1.ConfigProto instead.\n",
            "\n"
          ],
          "name": "stdout"
        },
        {
          "output_type": "stream",
          "text": [
            "/usr/local/lib/python3.6/dist-packages/tensorflow_core/python/framework/indexed_slices.py:421: UserWarning: Converting sparse IndexedSlices to a dense Tensor with 118224100 elements. This may consume a large amount of memory.\n",
            "  num_elements)\n"
          ],
          "name": "stderr"
        },
        {
          "output_type": "stream",
          "text": [
            "WARNING:tensorflow:From /usr/local/lib/python3.6/dist-packages/keras/backend/tensorflow_backend.py:207: The name tf.global_variables is deprecated. Please use tf.compat.v1.global_variables instead.\n",
            "\n",
            "WARNING:tensorflow:From /usr/local/lib/python3.6/dist-packages/keras/backend/tensorflow_backend.py:216: The name tf.is_variable_initialized is deprecated. Please use tf.compat.v1.is_variable_initialized instead.\n",
            "\n",
            "WARNING:tensorflow:From /usr/local/lib/python3.6/dist-packages/keras/backend/tensorflow_backend.py:223: The name tf.variables_initializer is deprecated. Please use tf.compat.v1.variables_initializer instead.\n",
            "\n",
            "1502979/1502979 [==============================] - 817s 544us/step - loss: 1.8209 - acc: 0.4290 - val_loss: 2.3965 - val_acc: 0.2990\n",
            "Epoch 2/40\n",
            "1502979/1502979 [==============================] - 799s 532us/step - loss: 1.5901 - acc: 0.5021 - val_loss: 2.1217 - val_acc: 0.3769\n",
            "Epoch 3/40\n",
            "1502979/1502979 [==============================] - 801s 533us/step - loss: 1.3272 - acc: 0.5838 - val_loss: 1.6552 - val_acc: 0.5206\n",
            "Epoch 4/40\n",
            "1123808/1502979 [=====================>........] - ETA: 3:21 - loss: 0.8005 - acc: 0.7535Buffered data was truncated after reaching the output size limit."
          ],
          "name": "stdout"
        }
      ]
    },
    {
      "cell_type": "code",
      "metadata": {
        "id": "jX7RMD6GsYA1",
        "colab_type": "code",
        "outputId": "ddd68585-2850-4226-b28d-1291c7372b32",
        "colab": {
          "base_uri": "https://localhost:8080/",
          "height": 54
        }
      },
      "source": [
        "_, acc = embedding_model.evaluate(X_train_encoded, y_train, verbose=0)\n",
        "print(\"Train accuracy:{:.2f}\".format(acc*100))\n",
        "_,acc= embedding_model.evaluate(X_test_encoded, y_test, verbose=0)\n",
        "print(\"Test accuracy:{:.2f}\".format(acc*100))"
      ],
      "execution_count": 14,
      "outputs": [
        {
          "output_type": "stream",
          "text": [
            "Train accuracy:97.55\n",
            "Test accuracy:88.46\n"
          ],
          "name": "stdout"
        }
      ]
    }
  ]
}